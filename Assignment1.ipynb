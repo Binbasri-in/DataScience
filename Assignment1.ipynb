{
 "cells": [
  {
   "cell_type": "markdown",
   "id": "f34da2b4-3709-4ec2-8ebc-1c5971481e9f",
   "metadata": {
    "tags": []
   },
   "source": [
    "# My Jupyter Notebook on IBM Watson Studio"
   ]
  },
  {
   "cell_type": "markdown",
   "id": "00b42893-116f-439e-a3a2-3a7a6686956e",
   "metadata": {
    "tags": []
   },
   "source": [
    "**Mohammed Ali**"
   ]
  },
  {
   "cell_type": "markdown",
   "id": "0b3553a7-6b85-4ab9-8327-c1fb2595d5f4",
   "metadata": {},
   "source": [
    "*I am interested in Data Science because I want to create a model for Habib Omer to convert his voice to text in a very accurate conversion*"
   ]
  },
  {
   "cell_type": "markdown",
   "id": "2293aca6-991b-41cc-8582-ec2363855d17",
   "metadata": {},
   "source": [
    "***This is a very simple code that capitalize a string***"
   ]
  },
  {
   "cell_type": "code",
   "execution_count": 2,
   "id": "22ec6ed5-6629-4c87-ba5e-da6be77426dc",
   "metadata": {
    "tags": []
   },
   "outputs": [
    {
     "name": "stdin",
     "output_type": "stream",
     "text": [
      " mohammed ali\n"
     ]
    },
    {
     "name": "stdout",
     "output_type": "stream",
     "text": [
      "Mohammed ali\n"
     ]
    }
   ],
   "source": [
    "print(input().capitalize())"
   ]
  }
 ],
 "metadata": {
  "kernelspec": {
   "display_name": "Python 3 (ipykernel)",
   "language": "python",
   "name": "python3"
  },
  "language_info": {
   "codemirror_mode": {
    "name": "ipython",
    "version": 3
   },
   "file_extension": ".py",
   "mimetype": "text/x-python",
   "name": "python",
   "nbconvert_exporter": "python",
   "pygments_lexer": "ipython3",
   "version": "3.9.7"
  }
 },
 "nbformat": 4,
 "nbformat_minor": 5
}
