{
 "cells": [
  {
   "cell_type": "markdown",
   "metadata": {},
   "source": [
    "Since it's not always easy to decide how to best tell the story behind your data, we've broken the chart types into three broad categories to help with this.\n",
    "\n",
    "- Trends - A trend is defined as a pattern of change.\n",
    "\n",
    "`sns.lineplot` - Line charts are best to show trends over a period of time, and multiple lines can be used to show trends in more than one group.\n",
    "\n",
    "- Relationship - There are many different chart types that you can use to understand relationships between variables in your data.\n",
    "\n",
    "`sns.barplot` - Bar charts are useful for comparing quantities corresponding to different groups.\n",
    "\n",
    "`sns.heatmap` - Heatmaps can be used to find color-coded patterns in tables of numbers.\n",
    "\n",
    "`sns.scatterplot` - Scatter plots show the relationship between two continuous variables; if color-coded, we can also show the \n",
    "\n",
    "`relationship with` a third categorical variable.\n",
    "\n",
    "`sns.regplot` - Including a regression line in the scatter plot makes it easier to see any linear relationship between two variables.\n",
    "\n",
    "`sns.lmplot` - This command is useful for drawing multiple regression lines, if the scatter plot contains multiple, color-coded groups.\n",
    "\n",
    "`sns.swarmplot` - Categorical scatter plots show the relationship between a continuous variable and a categorical variable.\n",
    "\n",
    "- Distribution - We visualize distributions to show the possible values that we can expect to see in a variable, along with how likely they are.\n",
    "\n",
    "`sns.histplot` - Histograms show the distribution of a single numerical variable.\n",
    "\n",
    "`sns.kdeplot` - KDE plots (or 2D KDE plots) show an estimated, smooth distribution of a single numerical variable (or two numerical variables).\n",
    "\n",
    "`sns.jointplot` - This command is useful for simultaneously displaying a 2D KDE plot with the corresponding KDE plots for each individual variable."
   ]
  },
  {
   "cell_type": "markdown",
   "metadata": {},
   "source": [
    "# seaborn style"
   ]
  },
  {
   "cell_type": "markdown",
   "metadata": {},
   "source": [
    "Change the style of the figure to the \"dark\" theme\n",
    "\n",
    "`sns.set_style(\"dark\")`\n",
    "\n",
    "Seaborn has five different themes: (1)`darkgrid`, (2)`whitegrid`, (3)`dark`, (4)`white`, and (5)`ticks`. The default theme is `darkgrid`, which is a white background with gray gridlines. The `whitegrid` theme is similar, but the background is white and the gridlines are gray. The `dark` theme is similar, but the background is black and the gridlines are white. The `white` theme is similar, but the background is white and the gridlines are gray. The `ticks` theme is similar, but the background is white and the gridlines are gray, and the axis ticks are emphasized."
   ]
  },
  {
   "cell_type": "markdown",
   "metadata": {},
   "source": [
    "change the size of the figure\n",
    "\n",
    "`plt.figure(figsize=(12,6))`"
   ]
  }
 ],
 "metadata": {
  "language_info": {
   "name": "python"
  },
  "orig_nbformat": 4
 },
 "nbformat": 4,
 "nbformat_minor": 2
}
