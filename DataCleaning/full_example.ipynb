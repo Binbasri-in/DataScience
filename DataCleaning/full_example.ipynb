{
 "cells": [
  {
   "cell_type": "markdown",
   "metadata": {},
   "source": [
    "# Data cleaning full process example only code"
   ]
  },
  {
   "cell_type": "code",
   "execution_count": 17,
   "metadata": {},
   "outputs": [],
   "source": [
    "# import libraries\n",
    "import pandas as pd\n",
    "import numpy as np\n"
   ]
  },
  {
   "cell_type": "code",
   "execution_count": 18,
   "metadata": {},
   "outputs": [
    {
     "data": {
      "text/html": [
       "<div>\n",
       "<style scoped>\n",
       "    .dataframe tbody tr th:only-of-type {\n",
       "        vertical-align: middle;\n",
       "    }\n",
       "\n",
       "    .dataframe tbody tr th {\n",
       "        vertical-align: top;\n",
       "    }\n",
       "\n",
       "    .dataframe thead th {\n",
       "        text-align: right;\n",
       "    }\n",
       "</style>\n",
       "<table border=\"1\" class=\"dataframe\">\n",
       "  <thead>\n",
       "    <tr style=\"text-align: right;\">\n",
       "      <th></th>\n",
       "      <th>Datetime</th>\n",
       "      <th>Stage</th>\n",
       "      <th>Stadium</th>\n",
       "      <th>City</th>\n",
       "      <th>Home Team Name</th>\n",
       "      <th>Home Team Goals</th>\n",
       "      <th>Away Team Goals</th>\n",
       "      <th>Away Team Name</th>\n",
       "      <th>Win conditions</th>\n",
       "      <th>Attendance</th>\n",
       "      <th>Half-time Home Goals</th>\n",
       "      <th>Half-time Away Goals</th>\n",
       "      <th>Referee</th>\n",
       "      <th>Assistant 1</th>\n",
       "      <th>Assistant 2</th>\n",
       "      <th>RoundID</th>\n",
       "      <th>MatchID</th>\n",
       "      <th>Home Team Initials</th>\n",
       "      <th>Away Team Initials</th>\n",
       "    </tr>\n",
       "    <tr>\n",
       "      <th>Year</th>\n",
       "      <th></th>\n",
       "      <th></th>\n",
       "      <th></th>\n",
       "      <th></th>\n",
       "      <th></th>\n",
       "      <th></th>\n",
       "      <th></th>\n",
       "      <th></th>\n",
       "      <th></th>\n",
       "      <th></th>\n",
       "      <th></th>\n",
       "      <th></th>\n",
       "      <th></th>\n",
       "      <th></th>\n",
       "      <th></th>\n",
       "      <th></th>\n",
       "      <th></th>\n",
       "      <th></th>\n",
       "      <th></th>\n",
       "    </tr>\n",
       "  </thead>\n",
       "  <tbody>\n",
       "    <tr>\n",
       "      <th>1930-01-01</th>\n",
       "      <td>13 Jul 1930 - 15:00</td>\n",
       "      <td>Group 1</td>\n",
       "      <td>Pocitos</td>\n",
       "      <td>Montevideo</td>\n",
       "      <td>France</td>\n",
       "      <td>4</td>\n",
       "      <td>1</td>\n",
       "      <td>Mexico</td>\n",
       "      <td></td>\n",
       "      <td>4444.0</td>\n",
       "      <td>3</td>\n",
       "      <td>0</td>\n",
       "      <td>LOMBARDI Domingo (URU)</td>\n",
       "      <td>CRISTOPHE Henry (BEL)</td>\n",
       "      <td>REGO Gilberto (BRA)</td>\n",
       "      <td>201</td>\n",
       "      <td>1096</td>\n",
       "      <td>FRA</td>\n",
       "      <td>MEX</td>\n",
       "    </tr>\n",
       "    <tr>\n",
       "      <th>1930-01-01</th>\n",
       "      <td>13 Jul 1930 - 15:00</td>\n",
       "      <td>Group 4</td>\n",
       "      <td>Parque Central</td>\n",
       "      <td>Montevideo</td>\n",
       "      <td>USA</td>\n",
       "      <td>3</td>\n",
       "      <td>0</td>\n",
       "      <td>Belgium</td>\n",
       "      <td></td>\n",
       "      <td>18346.0</td>\n",
       "      <td>2</td>\n",
       "      <td>0</td>\n",
       "      <td>MACIAS Jose (ARG)</td>\n",
       "      <td>MATEUCCI Francisco (URU)</td>\n",
       "      <td>WARNKEN Alberto (CHI)</td>\n",
       "      <td>201</td>\n",
       "      <td>1090</td>\n",
       "      <td>USA</td>\n",
       "      <td>BEL</td>\n",
       "    </tr>\n",
       "    <tr>\n",
       "      <th>1930-01-01</th>\n",
       "      <td>14 Jul 1930 - 12:45</td>\n",
       "      <td>Group 2</td>\n",
       "      <td>Parque Central</td>\n",
       "      <td>Montevideo</td>\n",
       "      <td>Yugoslavia</td>\n",
       "      <td>2</td>\n",
       "      <td>1</td>\n",
       "      <td>Brazil</td>\n",
       "      <td></td>\n",
       "      <td>24059.0</td>\n",
       "      <td>2</td>\n",
       "      <td>0</td>\n",
       "      <td>TEJADA Anibal (URU)</td>\n",
       "      <td>VALLARINO Ricardo (URU)</td>\n",
       "      <td>BALWAY Thomas (FRA)</td>\n",
       "      <td>201</td>\n",
       "      <td>1093</td>\n",
       "      <td>YUG</td>\n",
       "      <td>BRA</td>\n",
       "    </tr>\n",
       "    <tr>\n",
       "      <th>1930-01-01</th>\n",
       "      <td>14 Jul 1930 - 14:50</td>\n",
       "      <td>Group 3</td>\n",
       "      <td>Pocitos</td>\n",
       "      <td>Montevideo</td>\n",
       "      <td>Romania</td>\n",
       "      <td>3</td>\n",
       "      <td>1</td>\n",
       "      <td>Peru</td>\n",
       "      <td></td>\n",
       "      <td>2549.0</td>\n",
       "      <td>1</td>\n",
       "      <td>0</td>\n",
       "      <td>WARNKEN Alberto (CHI)</td>\n",
       "      <td>LANGENUS Jean (BEL)</td>\n",
       "      <td>MATEUCCI Francisco (URU)</td>\n",
       "      <td>201</td>\n",
       "      <td>1098</td>\n",
       "      <td>ROU</td>\n",
       "      <td>PER</td>\n",
       "    </tr>\n",
       "    <tr>\n",
       "      <th>1930-01-01</th>\n",
       "      <td>15 Jul 1930 - 16:00</td>\n",
       "      <td>Group 1</td>\n",
       "      <td>Parque Central</td>\n",
       "      <td>Montevideo</td>\n",
       "      <td>Argentina</td>\n",
       "      <td>1</td>\n",
       "      <td>0</td>\n",
       "      <td>France</td>\n",
       "      <td></td>\n",
       "      <td>23409.0</td>\n",
       "      <td>0</td>\n",
       "      <td>0</td>\n",
       "      <td>REGO Gilberto (BRA)</td>\n",
       "      <td>SAUCEDO Ulises (BOL)</td>\n",
       "      <td>RADULESCU Constantin (ROU)</td>\n",
       "      <td>201</td>\n",
       "      <td>1085</td>\n",
       "      <td>ARG</td>\n",
       "      <td>FRA</td>\n",
       "    </tr>\n",
       "  </tbody>\n",
       "</table>\n",
       "</div>"
      ],
      "text/plain": [
       "                        Datetime    Stage         Stadium         City  \\\n",
       "Year                                                                     \n",
       "1930-01-01  13 Jul 1930 - 15:00   Group 1         Pocitos  Montevideo    \n",
       "1930-01-01  13 Jul 1930 - 15:00   Group 4  Parque Central  Montevideo    \n",
       "1930-01-01  14 Jul 1930 - 12:45   Group 2  Parque Central  Montevideo    \n",
       "1930-01-01  14 Jul 1930 - 14:50   Group 3         Pocitos  Montevideo    \n",
       "1930-01-01  15 Jul 1930 - 16:00   Group 1  Parque Central  Montevideo    \n",
       "\n",
       "           Home Team Name  Home Team Goals  Away Team Goals Away Team Name  \\\n",
       "Year                                                                         \n",
       "1930-01-01         France                4                1         Mexico   \n",
       "1930-01-01            USA                3                0        Belgium   \n",
       "1930-01-01     Yugoslavia                2                1         Brazil   \n",
       "1930-01-01        Romania                3                1           Peru   \n",
       "1930-01-01      Argentina                1                0         France   \n",
       "\n",
       "           Win conditions  Attendance  Half-time Home Goals  \\\n",
       "Year                                                          \n",
       "1930-01-01                     4444.0                     3   \n",
       "1930-01-01                    18346.0                     2   \n",
       "1930-01-01                    24059.0                     2   \n",
       "1930-01-01                     2549.0                     1   \n",
       "1930-01-01                    23409.0                     0   \n",
       "\n",
       "            Half-time Away Goals                 Referee  \\\n",
       "Year                                                       \n",
       "1930-01-01                     0  LOMBARDI Domingo (URU)   \n",
       "1930-01-01                     0       MACIAS Jose (ARG)   \n",
       "1930-01-01                     0     TEJADA Anibal (URU)   \n",
       "1930-01-01                     0   WARNKEN Alberto (CHI)   \n",
       "1930-01-01                     0     REGO Gilberto (BRA)   \n",
       "\n",
       "                         Assistant 1                 Assistant 2  RoundID  \\\n",
       "Year                                                                        \n",
       "1930-01-01     CRISTOPHE Henry (BEL)         REGO Gilberto (BRA)      201   \n",
       "1930-01-01  MATEUCCI Francisco (URU)       WARNKEN Alberto (CHI)      201   \n",
       "1930-01-01   VALLARINO Ricardo (URU)         BALWAY Thomas (FRA)      201   \n",
       "1930-01-01       LANGENUS Jean (BEL)    MATEUCCI Francisco (URU)      201   \n",
       "1930-01-01      SAUCEDO Ulises (BOL)  RADULESCU Constantin (ROU)      201   \n",
       "\n",
       "            MatchID Home Team Initials Away Team Initials  \n",
       "Year                                                       \n",
       "1930-01-01     1096                FRA                MEX  \n",
       "1930-01-01     1090                USA                BEL  \n",
       "1930-01-01     1093                YUG                BRA  \n",
       "1930-01-01     1098                ROU                PER  \n",
       "1930-01-01     1085                ARG                FRA  "
      ]
     },
     "execution_count": 18,
     "metadata": {},
     "output_type": "execute_result"
    }
   ],
   "source": [
    "# read in data\n",
    "path = \"../data/WorldCupMatches.csv\"\n",
    "df = pd.read_csv(path, parse_dates=True, index_col=\"Year\")\n",
    "df.head()"
   ]
  },
  {
   "cell_type": "code",
   "execution_count": 19,
   "metadata": {},
   "outputs": [
    {
     "name": "stdout",
     "output_type": "stream",
     "text": [
      "(852, 19)\n",
      "Datetime                 object\n",
      "Stage                    object\n",
      "Stadium                  object\n",
      "City                     object\n",
      "Home Team Name           object\n",
      "Home Team Goals           int64\n",
      "Away Team Goals           int64\n",
      "Away Team Name           object\n",
      "Win conditions           object\n",
      "Attendance              float64\n",
      "Half-time Home Goals      int64\n",
      "Half-time Away Goals      int64\n",
      "Referee                  object\n",
      "Assistant 1              object\n",
      "Assistant 2              object\n",
      "RoundID                   int64\n",
      "MatchID                   int64\n",
      "Home Team Initials       object\n",
      "Away Team Initials       object\n",
      "dtype: object\n"
     ]
    }
   ],
   "source": [
    "# check the types of the columns and shape of the dataframe\n",
    "print(df.shape)\n",
    "print(df.dtypes)"
   ]
  },
  {
   "cell_type": "code",
   "execution_count": 20,
   "metadata": {},
   "outputs": [
    {
     "data": {
      "text/plain": [
       "Datetime                0\n",
       "Stage                   0\n",
       "Stadium                 0\n",
       "City                    0\n",
       "Home Team Name          0\n",
       "Home Team Goals         0\n",
       "Away Team Goals         0\n",
       "Away Team Name          0\n",
       "Win conditions          0\n",
       "Attendance              2\n",
       "Half-time Home Goals    0\n",
       "Half-time Away Goals    0\n",
       "Referee                 0\n",
       "Assistant 1             0\n",
       "Assistant 2             0\n",
       "RoundID                 0\n",
       "MatchID                 0\n",
       "Home Team Initials      0\n",
       "Away Team Initials      0\n",
       "dtype: int64"
      ]
     },
     "execution_count": 20,
     "metadata": {},
     "output_type": "execute_result"
    }
   ],
   "source": [
    "# count the number of missing values in each column\n",
    "df.isnull().sum()"
   ]
  },
  {
   "cell_type": "code",
   "execution_count": 21,
   "metadata": {},
   "outputs": [
    {
     "data": {
      "text/plain": [
       "0"
      ]
     },
     "execution_count": 21,
     "metadata": {},
     "output_type": "execute_result"
    }
   ],
   "source": [
    "# at Attendance, we have 2 missing values\n",
    "# fill in the missing values with the mean value along each column\n",
    "df['Attendance'].fillna(df['Attendance'].mean(), inplace=True)\n",
    "\n",
    "# check the number of missing values in each column again to confirm\n",
    "df.isnull().sum()[1].sum()"
   ]
  },
  {
   "cell_type": "code",
   "execution_count": 22,
   "metadata": {},
   "outputs": [
    {
     "data": {
      "text/plain": [
       "Datetime                datetime64[ns]\n",
       "Stage                           object\n",
       "Stadium                         object\n",
       "City                            object\n",
       "Home Team Name                  object\n",
       "Home Team Goals                  int64\n",
       "Away Team Goals                  int64\n",
       "Away Team Name                  object\n",
       "Win conditions                  object\n",
       "Attendance                     float64\n",
       "Half-time Home Goals             int64\n",
       "Half-time Away Goals             int64\n",
       "Referee                         object\n",
       "Assistant 1                     object\n",
       "Assistant 2                     object\n",
       "RoundID                          int64\n",
       "MatchID                          int64\n",
       "Home Team Initials              object\n",
       "Away Team Initials              object\n",
       "dtype: object"
      ]
     },
     "execution_count": 22,
     "metadata": {},
     "output_type": "execute_result"
    }
   ],
   "source": [
    "# change to the correct data type\n",
    "df['Datetime'] = pd.to_datetime(df['Datetime'])\n",
    "df.index = pd.DatetimeIndex(df.index)\n",
    "df.dtypes"
   ]
  },
  {
   "cell_type": "code",
   "execution_count": null,
   "metadata": {},
   "outputs": [],
   "source": [
    "# minmax scale the goals scored\n",
    "# df[\"Home Team Goals\"] = (df[\"Home Team Goals\"] - df[\"Home Team Goals\"].min()) / (df[\"Home Team Goals\"].max() - df[\"Home Team Goals\"].min())\n",
    "# df[\"Away Team Goals\"] = (df[\"Away Team Goals\"] - df[\"Away Team Goals\"].min()) / (df[\"Away Team Goals\"].max() - df[\"Away Team Goals\"].min())\n",
    "\n",
    "# check the data was scaled correctly\n",
    "# df.head()"
   ]
  },
  {
   "cell_type": "code",
   "execution_count": null,
   "metadata": {},
   "outputs": [],
   "source": [
    "# export the cleaned data to be used\n",
    "df.to_csv(\"../data/WorldCupMatchesCleaned.csv\")"
   ]
  }
 ],
 "metadata": {
  "kernelspec": {
   "display_name": "Python 3.10.4 ('kaggle')",
   "language": "python",
   "name": "python3"
  },
  "language_info": {
   "codemirror_mode": {
    "name": "ipython",
    "version": 3
   },
   "file_extension": ".py",
   "mimetype": "text/x-python",
   "name": "python",
   "nbconvert_exporter": "python",
   "pygments_lexer": "ipython3",
   "version": "3.10.4"
  },
  "orig_nbformat": 4,
  "vscode": {
   "interpreter": {
    "hash": "a8fede920a981b9aacd5c1f8987070a63b5d1c63e6480fb4547573051a374918"
   }
  }
 },
 "nbformat": 4,
 "nbformat_minor": 2
}
