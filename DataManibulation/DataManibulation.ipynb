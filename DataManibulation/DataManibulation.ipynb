{
 "cells": [
  {
   "cell_type": "markdown",
   "metadata": {},
   "source": [
    "# pandas"
   ]
  },
  {
   "cell_type": "code",
   "execution_count": null,
   "metadata": {},
   "outputs": [],
   "source": [
    "# import pandas \n",
    "import pandas as pd"
   ]
  },
  {
   "cell_type": "markdown",
   "metadata": {},
   "source": [
    "### Create read and write pandas dataframe"
   ]
  },
  {
   "cell_type": "code",
   "execution_count": null,
   "metadata": {},
   "outputs": [],
   "source": [
    "# create dataframe\n",
    "pd.DataFrame({'Yes': [50, 21], 'No': [131, 2]})\n",
    "pd.DataFrame({'Bob': ['I liked it.', 'It was awful.'], 'Sue': ['Pretty good.', 'Bland.']})\n",
    "pd.DataFrame({'Bob': ['I liked it.', 'It was awful.'], \n",
    "              'Sue': ['Pretty good.', 'Bland.']},\n",
    "             index=['Product A', 'Product B'])\n",
    "\n",
    "# create Series\n",
    "pd.Series([1, 2, 3, 4, 5])\n",
    "pd.Series([30, 35, 40], index=['2015 Sales', '2016 Sales', '2017 Sales'], name='Product A')\n",
    "\n",
    "# read datafiles\n",
    "# pd.read_csv('datafile.csv')\n",
    "# save datafiles\n",
    "# df.to_csv('datafile.csv')"
   ]
  },
  {
   "cell_type": "markdown",
   "metadata": {},
   "source": [
    "### indexing Selecting and Assigning Data"
   ]
  },
  {
   "cell_type": "markdown",
   "metadata": {},
   "source": [
    "- Index-based selection\n",
    "Pandas indexing works in one of two paradigms. The first is index-based selection: selecting data based on its numerical position in the data. iloc follows this paradigm."
   ]
  },
  {
   "cell_type": "markdown",
   "metadata": {},
   "source": [
    "- Label-based selection\n",
    "The second paradigm for attribute selection is the one followed by the loc operator: label-based selection. In this paradigm, it's the data index value, not its position, which matters."
   ]
  },
  {
   "cell_type": "code",
   "execution_count": null,
   "metadata": {},
   "outputs": [],
   "source": [
    "# to select a column in a dataframe use\n",
    "# df['column_name'] or df.column_name\n",
    "\n",
    "# to select a row in a dataframe use\n",
    "# df.loc['row_name'] or df.iloc[row_number]\n",
    "\n",
    "# to select a cell in a dataframe use\n",
    "# df.loc['row_name', 'column_name'] or df.iloc[row_number, column_number]\n",
    "\n",
    "# you can set index of a dataframe using\n",
    "# df.set_index('column_name')\n",
    "\n",
    "# you can reset index of a dataframe using\n",
    "# df.reset_index()\n",
    "\n",
    "# you can sort a dataframe using\n",
    "# df.sort_values(by='column_name')"
   ]
  },
  {
   "cell_type": "markdown",
   "metadata": {},
   "source": [
    "### summary functions"
   ]
  },
  {
   "cell_type": "code",
   "execution_count": null,
   "metadata": {},
   "outputs": [],
   "source": [
    "# get descriptive statistics of a dataframe using\n",
    "# df.describe()\n",
    "\n",
    "# get unique values of a dataframe using\n",
    "# df['column_name'].unique()\n",
    "\n",
    "# unique and how often they appear\n",
    "# df['column_name'].value_counts()\n",
    "\n",
    "# get the mean of a dataframe using\n",
    "# df['column_name'].mean()\n",
    "\n"
   ]
  },
  {
   "cell_type": "markdown",
   "metadata": {},
   "source": [
    "### Maps"
   ]
  },
  {
   "cell_type": "code",
   "execution_count": null,
   "metadata": {},
   "outputs": [],
   "source": [
    "# map using a dictionary\n",
    "# df['column_name'].map({'old_value': 'new_value'})\n",
    "\n",
    "# map using a function\n",
    "# df['column_name'].map(len)\n",
    "\n",
    "# map using a lambda function\n",
    "# df['column_name'].map(lambda x: x*2)\n",
    "\n",
    "# apply a function to every element in a column\n",
    "# df['column_name'].apply(len)\n",
    "\n"
   ]
  },
  {
   "cell_type": "markdown",
   "metadata": {},
   "source": [
    "### Sorting and grouping"
   ]
  },
  {
   "cell_type": "code",
   "execution_count": null,
   "metadata": {},
   "outputs": [],
   "source": [
    "# gouping data using groupby\n",
    "# df.groupby('column_name')\n",
    "\n",
    "# can be replaced with value_counts()\n",
    "# df.groupby('column_name').size() or df['column_name'].value_counts()\n",
    "\n",
    "# for multiple functions\n",
    "# df.groupby('column_name').agg([min, max, sum])\n",
    "\n",
    "# to sort the values\n",
    "# df.sort_values(by='column_name', ascending=False)\n",
    "\n",
    "# to sort the index\n",
    "# df.sort_index()"
   ]
  },
  {
   "cell_type": "code",
   "execution_count": null,
   "metadata": {},
   "outputs": [],
   "source": [
    "# useful functions for missing values and duplicates\n",
    "# df.isnull()\n",
    "# df.notnull()\n",
    "# df.dropna()\n",
    "# df.fillna()\n",
    "# df.duplicated()\n",
    "# df.drop_duplicates()\n",
    "# df.rename(columns={'old_name': 'new_name'})\n",
    "# df.rename(index={'old_name': 'new_name'})\n",
    "# df.rename_axis('column_name', axis='columns')\n",
    "# df.rename_axis('row_name', axis='rows')\n",
    "# df.replace({'old_name': 'new_name'})"
   ]
  },
  {
   "cell_type": "code",
   "execution_count": null,
   "metadata": {},
   "outputs": [],
   "source": [
    "# functions for combining dataframes\n",
    "# pd.concat([df1, df2])\n",
    "# pd.merge(df1, df2, on='column_name')\n",
    "# pd.merge(df1, df2, left_on='column_name1', right_on='column_name2')\n",
    "# pd.merge(df1, df2, left_index=True, right_index=True)\n",
    "# pd.merge(df1, df2, how='outer')\n",
    "# df1.join(df2)"
   ]
  }
 ],
 "metadata": {
  "kernelspec": {
   "display_name": "Python 3.10.4 64-bit",
   "language": "python",
   "name": "python3"
  },
  "language_info": {
   "name": "python",
   "version": "3.10.4"
  },
  "orig_nbformat": 4,
  "vscode": {
   "interpreter": {
    "hash": "369f2c481f4da34e4445cda3fffd2e751bd1c4d706f27375911949ba6bb62e1c"
   }
  }
 },
 "nbformat": 4,
 "nbformat_minor": 2
}
