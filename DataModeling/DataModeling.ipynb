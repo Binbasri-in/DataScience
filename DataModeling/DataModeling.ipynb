{
 "cells": [
  {
   "cell_type": "markdown",
   "metadata": {},
   "source": [
    "# Data Modeling with Machine Learning Algorithm using python"
   ]
  },
  {
   "cell_type": "markdown",
   "metadata": {},
   "source": [
    "The Current ML Models the I can build are:\n",
    "- Different types of Regression.\n",
    "- Classification algorithms like, KNN, Tree Decision, Logestic Regression and SVM\n",
    "- Clustring algorithms like DBSCAN (Density-Based), Hierarchical, K-Means"
   ]
  }
 ],
 "metadata": {
  "language_info": {
   "name": "python"
  },
  "orig_nbformat": 4
 },
 "nbformat": 4,
 "nbformat_minor": 2
}
